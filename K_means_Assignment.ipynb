{
 "cells": [
  {
   "cell_type": "code",
   "execution_count": 1,
   "metadata": {},
   "outputs": [],
   "source": [
    "import numpy as np\n",
    "import matplotlib.pyplot as plt\n",
    "import random\n",
    "from random import *\n",
    "import matplotlib.pyplot as plt"
   ]
  },
  {
   "cell_type": "code",
   "execution_count": 2,
   "metadata": {},
   "outputs": [],
   "source": [
    "def calculateMembership(k_clusters,images_matrix_clustering):\n",
    "    membership_matrix1=np.zeros(2400)\n",
    "    for i in range(0,len(images_matrix_clustering)):\n",
    "        dist1 =np.linalg.norm(k_clusters[0]-images_matrix_clustering[i])\n",
    "        dist2 =np.linalg.norm(k_clusters[1]-images_matrix_clustering[i])\n",
    "        dist3 =np.linalg.norm(k_clusters[2]-images_matrix_clustering[i])\n",
    "        dist4 =np.linalg.norm(k_clusters[3]-images_matrix_clustering[i])\n",
    "        dist5 =np.linalg.norm(k_clusters[4]-images_matrix_clustering[i])\n",
    "        dist6 =np.linalg.norm(k_clusters[5]-images_matrix_clustering[i])\n",
    "        dist7 =np.linalg.norm(k_clusters[6]-images_matrix_clustering[i])\n",
    "        dist8 =np.linalg.norm(k_clusters[7]-images_matrix_clustering[i])\n",
    "        dist9 =np.linalg.norm(k_clusters[8]-images_matrix_clustering[i])\n",
    "        dist10 =np.linalg.norm(k_clusters[9]-images_matrix_clustering[i])\n",
    "        minimum_dist=[dist1,dist2,dist3,dist4,dist5,dist6,dist7,dist8,dist9,dist10]\n",
    "        membership_matrix1[i]=((np.argmin(minimum_dist))+1) #get index of min euclidean distance (cluster it belongs to)\n",
    "    #print(np.unique(membership_matrix1, axis=0))\n",
    "    return membership_matrix1  "
   ]
  },
  {
   "cell_type": "code",
   "execution_count": 3,
   "metadata": {},
   "outputs": [],
   "source": [
    "final_k_clusters = np.zeros((30,10,784)) # will hold 30 k-cluster matrices\n",
    "final_membership = np.zeros((30,2400)) # will hold 30 membership matricees\n",
    "#do 30 times\n",
    "for r in range (0,30):\n",
    "    images_matrix = np.zeros((2400,784)) #array which will hold the images. We choose randomly from it, and remove chosen.\n",
    "    images_matrix_clustering = np.zeros((2400,784))#Array of all the images, which nothing will be removed from\n",
    "    k_clusters = np.zeros((10,784))   #an array which will hold the k (10) updated centroid\n",
    "    for i in range (0,2400): #convert the images to binary images\n",
    "        number=i+1\n",
    "        img = plt.imread(\"Images/\"+str(number)+\".jpg\").ravel() #read image\n",
    "        a= [int(pixel > 140) for pixel in img] #convert anything less than 140 to 0 and anything greater than 140 to 1\n",
    "        a= np.asarray(a)\n",
    "        images_matrix[i]=a  #replace old image with new binary one\n",
    "        images_matrix_clustering[i]=a #replace old image with the new binary one\n",
    "    randImg =randint(0, 2399) #choose 1 random image\n",
    "    k1= images_matrix[randImg]#store the first image as the first mean k1\n",
    "    images_matrix=np.delete(images_matrix, randImg,0)#delete the chosen cluster from the images array\n",
    "    maxdist= -1 #hold the index of the most further image in the images_matrix\n",
    "    initDist=-1 #holds the distance between the furtherest image and the current one\n",
    "    for i in range(0,len(images_matrix)):#get the image which is most further away from k1\n",
    "                euclidean_distance= np.linalg.norm(k1-images_matrix[i])#calculate euclidean\n",
    "                if(euclidean_distance>initDist):#compare euclidean with current most max\n",
    "                    maxdist=i #get the index of the most far away image till now\n",
    "                    initDist=euclidean_distance #replace the most further away distance by the euclidean distance\n",
    "    k2= images_matrix[maxdist]\n",
    "    #remove  from images_matrix k2\n",
    "    images_matrix=np.delete(images_matrix, maxdist,0)\n",
    "    maxdist= -1 #hold the index of the most further image\n",
    "    initDist=-1 #holds the distance between the furtherest image and the current one\n",
    "    for i in range(0,len(images_matrix)):#get the image which is most further away from k2\n",
    "            euclidean_distance= np.linalg.norm(k2-images_matrix[i])#calculate euclidean\n",
    "            if(euclidean_distance>initDist):#compare euclidean with 0\n",
    "                maxdist=i #get the index of the most far away image till now\n",
    "                initDist=euclidean_distance #replace the most further away distance by the euclidean distance\n",
    "    k3= images_matrix[maxdist] #get the furtherst image and make it the third mean k3\n",
    "    #remove k3 from images_matrix\n",
    "    images_matrix=np.delete(images_matrix, maxdist,0)\n",
    "    maxdist= -1 #hold the index of the most further image\n",
    "    initDist=-1 #holds the distance between the furtherest image and the current one\n",
    "    for i in range(0,len(images_matrix)):#get the image which is most further away from k3\n",
    "            euclidean_distance= np.linalg.norm(k3-images_matrix[i])#calculate euclidean\n",
    "            if(euclidean_distance>initDist):#compare euclidean with current most max\n",
    "                maxdist=i #get the index of the most far away image till now\n",
    "                initDist=euclidean_distance #replace the most further away distance by the euclidean distance\n",
    "    k4= images_matrix[maxdist]\n",
    "    #remove k4 from images_matrix\n",
    "    images_matrix=np.delete(images_matrix, maxdist,0)\n",
    "    maxdist= -1 #hold the index of the most further image\n",
    "    initDist=-1 #holds the distance between the furtherest image and the current one\n",
    "    for i in range(0,len(images_matrix)):#get the image which is most further away from k4\n",
    "            euclidean_distance= np.linalg.norm(k4-images_matrix[i])#calculate euclidean\n",
    "            if(euclidean_distance>initDist):#compare euclidean with current most max\n",
    "                maxdist=i #get the index of the most far away image till now\n",
    "                initDist=euclidean_distance #replace the most further away distance by the euclidean distance\n",
    "    k5= images_matrix[maxdist]\n",
    "    #remove k5 from images_matrix\n",
    "    images_matrix=np.delete(images_matrix, maxdist,0)\n",
    "    maxdist= -1 #hold the index of the most further image\n",
    "    initDist=-1 #holds the distance between the furtherest image and the current one\n",
    "    for i in range(0,len(images_matrix)):#get the image which is most further away from k5\n",
    "            euclidean_distance= np.linalg.norm(k5-images_matrix[i])#calculate euclidean\n",
    "            if(euclidean_distance>initDist):#compare euclidean with current most max\n",
    "                maxdist=i #get the index of the most far away image till now\n",
    "                initDist=euclidean_distance #replace the most further away distance by the euclidean distance\n",
    "    k6= images_matrix[maxdist]\n",
    "    #remove k6 from images_matrix\n",
    "    images_matrix=np.delete(images_matrix, maxdist,0)\n",
    "    maxdist= -1 #hold the index of the most further image\n",
    "    initDist=-1 #holds the distance between the furtherest image and the current one\n",
    "    for i in range(0,len(images_matrix)):#get the image which is most further away from k6\n",
    "            euclidean_distance= np.linalg.norm(k6-images_matrix[i])#calculate euclidean\n",
    "            if(euclidean_distance>initDist):#compare euclidean with current most max\n",
    "                maxdist=i #get the index of the most far away image till now\n",
    "                initDist=euclidean_distance #replace the most further away distance by the euclidean distance\n",
    "    k7 =images_matrix[maxdist]\n",
    "    #remove k7 from images_matrix\n",
    "    images_matrix=np.delete(images_matrix, maxdist,0)\n",
    "    maxdist= -1 #hold the index of the most further image\n",
    "    initDist=-1 #holds the distance between the furtherest image and the current one\n",
    "    for i in range(0,len(images_matrix)):#get the image which is most further away from k7\n",
    "            euclidean_distance= np.linalg.norm(k7-images_matrix[i])#calculate euclidean\n",
    "            if(euclidean_distance>initDist):#compare euclidean with current most max\n",
    "                maxdist=i #get the index of the most far away image till now\n",
    "                initDist=euclidean_distance #replace the most further away distance by the euclidean distance\n",
    "    k8 =images_matrix[maxdist]\n",
    "    #remove k8 from images_matrix\n",
    "    images_matrix=np.delete(images_matrix, maxdist,0)\n",
    "    maxdist= -1 #hold the index of the most further image\n",
    "    initDist=-1 #holds the distance between the furtherest image and the current one\n",
    "    for i in range(0,len(images_matrix)):#get the image which is most further away from k8\n",
    "            euclidean_distance= np.linalg.norm(k8-images_matrix[i])#calculate euclidean\n",
    "            if(euclidean_distance>initDist):#compare euclidean with current most max\n",
    "                maxdist=i #get the index of the most far away image till now\n",
    "                initDist=euclidean_distance #replace the most further away distance by the euclidean distance\n",
    "    k9=images_matrix[maxdist]\n",
    "    #remove k9 from images_matrix\n",
    "    images_matrix=np.delete(images_matrix, maxdist,0)\n",
    "    maxdist= -1 #hold the index of the most further image\n",
    "    initDist=-1 #holds the distance between the furtherest image and the current one\n",
    "    for i in range(0,len(images_matrix)):#get the image which is most further away from k9\n",
    "            euclidean_distance= np.linalg.norm(k9-images_matrix[i])#calculate euclidean\n",
    "            if(euclidean_distance>initDist):#compare euclidean with current most max\n",
    "                maxdist=i #get the index of the most far away image till now\n",
    "                initDist=euclidean_distance #replace the most further away distance by the euclidean distance\n",
    "    k10=images_matrix[maxdist]\n",
    "    #remove k10 from images_matrix\n",
    "    images_matrix=np.delete(images_matrix, maxdist,0)\n",
    "    k_clusters[0]=k1\n",
    "    k_clusters[1]=k2\n",
    "    k_clusters[2]=k3\n",
    "    k_clusters[3]=k4\n",
    "    k_clusters[4]=k5\n",
    "    k_clusters[6]=k7\n",
    "    k_clusters[7]=k8\n",
    "    k_clusters[8]=k9\n",
    "    k_clusters[9]=k10\n",
    "    membership=calculateMembership(k_clusters,images_matrix_clustering) #find intial membership matrix\n",
    "    previousMembership= np.negative(np.ones(2400))\n",
    "   \n",
    "    while((previousMembership!=membership).all()):\n",
    "        previousMembership=membership\n",
    "        for num in range (0,10):#for the 10 clusters\n",
    "            currentIndex = num + 1#cluster number\n",
    "            indices = [i for i, x in enumerate(membership) if x == currentIndex] #get all images indices which belong to cluster: currentIndex i+1\n",
    "             #compute mean of that cluster images\n",
    "            temp_matrix_images=np.zeros((len(indices),784))#create an array which will hold images classified as the same cluster\n",
    "            for i in range(0,len(indices)):\n",
    "                img = images_matrix_clustering[indices[i]]\n",
    "                temp_matrix_images[i]=img#store images of the same cluster in an array called temp_matrix\n",
    "            theMean= np.mean(temp_matrix_images,axis=0)#get mean of those images in a form of one new image\n",
    "            k_clusters[num]=theMean#place the mean of those images in the k_clusters array which holds the values of the 10 clusters\n",
    "        membership =calculateMembership(k_clusters,images_matrix_clustering)\n",
    "    final_k_clusters[r]=k_clusters\n",
    "    final_membership[r]=membership"
   ]
  },
  {
   "cell_type": "code",
   "execution_count": 4,
   "metadata": {},
   "outputs": [],
   "source": [
    "ratingIntialization = np.zeros((30,10))\n",
    "sumOfEuclidean1=0\n",
    "arrayAccum = np.zeros(10)\n",
    "for e in range (0,30):\n",
    "    arrayAccum = np.zeros(10)\n",
    "    for t in range (0,10):# for the 10 classes\n",
    "        membership_of_iterations = final_membership[e]\n",
    "        indices = [i for i, x in enumerate(membership_of_iterations) if x == (t+1)] #get all images indices which belong to cluster: 1,2,3,4,5,6,7,8,9,10 in this order\n",
    "        sumOfEuclidean1=0\n",
    "        for u in range (0,(len(indices))):\n",
    "            sumOfEuclidean1+= np.linalg.norm(final_k_clusters[e][t] -images_matrix_clustering[indices[u]])\n",
    "        x=sumOfEuclidean1/len(indices) #get the avergae \n",
    "        arrayAccum[t]=x\n",
    "    ratingIntialization[e]= arrayAccum\n",
    "# caclulate row average and output index of best\n",
    "comparisonArray = np.mean(ratingIntialization,axis=1)"
   ]
  },
  {
   "cell_type": "code",
   "execution_count": 5,
   "metadata": {},
   "outputs": [
    {
     "data": {
      "text/plain": [
       "14"
      ]
     },
     "execution_count": 5,
     "metadata": {},
     "output_type": "execute_result"
    }
   ],
   "source": [
    "np.argmin(comparisonArray)"
   ]
  },
  {
   "cell_type": "code",
   "execution_count": 6,
   "metadata": {},
   "outputs": [
    {
     "name": "stdout",
     "output_type": "stream",
     "text": [
      "30\n"
     ]
    }
   ],
   "source": [
    "print(len(comparisonArray))"
   ]
  },
  {
   "cell_type": "code",
   "execution_count": 7,
   "metadata": {},
   "outputs": [
    {
     "name": "stdout",
     "output_type": "stream",
     "text": [
      "[9. 9. 3. ... 6. 6. 6.]\n"
     ]
    }
   ],
   "source": [
    "print(final_membership[10])"
   ]
  },
  {
   "cell_type": "code",
   "execution_count": 8,
   "metadata": {},
   "outputs": [
    {
     "name": "stdout",
     "output_type": "stream",
     "text": [
      "[ 98. 134. 102. 126. 144. 139. 123.  82. 112. 143.]\n"
     ]
    }
   ],
   "source": [
    "minimum_Value_Iteration =np.argmin(comparisonArray) #at that iteration number we got the best results according to the Within Cluster Sum of Squares\n",
    "m_membership= final_membership[minimum_Value_Iteration]\n",
    "counts = np.zeros(10)\n",
    "final_Array=np.zeros(10)  \n",
    "for images in range (0,10):\n",
    "    counts = np.zeros(10)\n",
    "    for nums in range (images*240, ((images*240)+240)): #0->240\n",
    "        currentCluster=int((final_membership[minimum_Value_Iteration][nums])-1)\n",
    "        counts[currentCluster]=counts[currentCluster]+1 #increment the value in the cluster which that image belonged to\n",
    "    my_cluster = np.max(counts)\n",
    "    final_Array[images]=my_cluster\n",
    "print(final_Array) "
   ]
  },
  {
   "cell_type": "code",
   "execution_count": 9,
   "metadata": {},
   "outputs": [
    {
     "data": {
      "image/png": "[encoded data removed]",
      "text/plain": [
       "<Figure size 432x288 with 1 Axes>"
      ]
     },
     "metadata": {
      "needs_background": "light"
     },
     "output_type": "display_data"
    }
   ],
   "source": [
    "digits = [0, 1, 2, 3, 4, 5,6,7,8,9]\n",
    "frequencies = final_Array\n",
    "rwidth=0.5\n",
    "# gives histogram aspect to the bar diagram\n",
    "ax = plt.axes()\n",
    "plt.bar(digits, frequencies, rwidth, color='b')\n",
    "plt.xlabel('Digit Number')\n",
    "plt.ylabel('Count')\n",
    "plt.savefig('Counts.jpg')  \n",
    "plt.show()"
   ]
  },
  {
   "cell_type": "code",
   "execution_count": 10,
   "metadata": {},
   "outputs": [
    {
     "data": {
      "text/plain": [
       "array([6., 6., 6., 6., 6., 6., 6., 6., 6., 6., 6., 6., 6., 6., 6., 6., 6.,\n",
       "       6., 6., 6., 6., 6., 6., 6., 6., 6., 6., 6., 6., 6., 6., 6., 6., 6.,\n",
       "       6., 6., 6., 6., 6., 6., 6., 6., 6., 6., 6., 6., 6., 6., 6., 6., 6.,\n",
       "       6., 6., 6., 6., 6., 6., 6., 6., 6., 6., 6., 6., 6., 6., 6., 6., 6.,\n",
       "       6., 6., 1., 6., 6., 6., 6., 6., 6., 6., 6., 6., 6., 6., 6., 6., 6.,\n",
       "       6., 6., 6., 1., 6., 6., 6., 6., 6., 6., 6., 6., 6., 6., 1., 6., 6.,\n",
       "       6., 6., 6., 6., 6., 6., 6., 6., 6., 1., 6., 6., 6., 6., 6., 6., 6.,\n",
       "       6., 6., 6., 6., 6., 6., 6., 1., 6., 6., 6., 6., 6., 6., 6., 6., 6.,\n",
       "       6., 6., 6., 6., 6., 6., 6., 6., 1., 6., 6., 6., 6., 6., 1., 1., 1.,\n",
       "       6., 6., 1., 6., 1., 1., 1., 6., 1., 1., 6., 6., 6., 6., 6., 6., 6.,\n",
       "       6., 1., 6., 6., 6., 6., 6., 6., 6., 6., 6., 6., 6., 6., 6., 6., 6.,\n",
       "       6., 6., 6., 6., 6., 6., 6., 6., 6., 6., 6., 6., 6., 6., 6., 6., 6.,\n",
       "       6., 6., 6., 6., 6., 6., 6., 6., 1., 6., 6., 6., 6., 6., 6., 6., 6.,\n",
       "       6., 6., 1., 6., 6., 6., 6., 6., 6., 6., 6., 6., 6., 6., 6., 6., 6.,\n",
       "       6., 6.])"
      ]
     },
     "execution_count": 10,
     "metadata": {},
     "output_type": "execute_result"
    }
   ],
   "source": [
    "final_membership[10][240:480]"
   ]
  },
  {
   "cell_type": "code",
   "execution_count": null,
   "metadata": {},
   "outputs": [],
   "source": []
  }
 ],
 "metadata": {
  "kernelspec": {
   "display_name": "Python 3",
   "language": "python",
   "name": "python3"
  },
  "language_info": {
   "codemirror_mode": {
    "name": "ipython",
    "version": 3
   },
   "file_extension": ".py",
   "mimetype": "text/x-python",
   "name": "python",
   "nbconvert_exporter": "python",
   "pygments_lexer": "ipython3",
   "version": "3.6.5"
  }
 },
 "nbformat": 4,
 "nbformat_minor": 2
}
